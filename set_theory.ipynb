{
 "cells": [
  {
   "cell_type": "code",
   "execution_count": 31,
   "id": "3909c362",
   "metadata": {},
   "outputs": [],
   "source": [
    "from matplotlib_venn import venn2, venn2_circles, venn2_unweighted\n",
    "from matplotlib_venn import venn3, venn3_circles\n",
    "from matplotlib import pyplot as plt\n",
    "import pandas as pd\n",
    "%matplotlib inline"
   ]
  },
  {
   "cell_type": "code",
   "execution_count": null,
   "id": "92ba6f08",
   "metadata": {},
   "outputs": [],
   "source": [
    "from matplotlib_venn import venn3\n",
    "import matplotlib.pyplot as plt"
   ]
  },
  {
   "cell_type": "code",
   "execution_count": null,
   "id": "5a437f18",
   "metadata": {},
   "outputs": [],
   "source": [
    "def drawVenn2(A,B,labels = ('A', 'B')):\n",
    "    '''\n",
    "    listing elements in Venn diagram of two sets\n",
    "    '''\n",
    "    v2=venn2([A,B],set_labels = labels);\n",
    "    v2.get_label_by_id('01').set_text(', '.join(map(str,B-A)))\n",
    "    v2.get_label_by_id('10').set_text(', '.join(map(str,A-B)))\n",
    "    if A&B:\n",
    "        v2.get_label_by_id('11').set_text(', '.join(map(str,A&B)))"
   ]
  },
  {
   "cell_type": "code",
   "execution_count": null,
   "id": "4bfaea57",
   "metadata": {},
   "outputs": [],
   "source": [
    "def drawVenn3(A,B,C,labels = ('A', 'B', 'C')):\n",
    "    '''\n",
    "    listing elements in Venn diagram of three sets, A, B, C\n",
    "    '''\n",
    "    v3=venn3([A,B,C],set_labels = labels);\n",
    "    if A-B-C:\n",
    "        v3.get_label_by_id('100').set_text('\\n'.join(map(str,A-B-C)))\n",
    "        v3.get_patch_by_id('100').set_alpha(0.6)\n",
    "        v3.get_patch_by_id('100').set_facecolor('Yellow')\n",
    "    if A&B-C:\n",
    "        v3.get_label_by_id('110').set_text('\\n'.join(map(str,A&B-C)))\n",
    "        v3.get_patch_by_id('110').set_alpha(0.3)\n",
    "        v3.get_patch_by_id('110').set_facecolor('Red')\n",
    "    if B-C-A:\n",
    "        v3.get_label_by_id('010').set_text('\\n'.join(map(str,B-C-A)))\n",
    "        v3.get_patch_by_id('010').set_alpha(0.6)\n",
    "        v3.get_patch_by_id('010').set_facecolor('Magenta')\n",
    "    if A&C-B:\n",
    "        v3.get_label_by_id('101').set_text('\\n'.join(map(str,A&C-B)))\n",
    "        v3.get_patch_by_id('101').set_alpha(0.3)\n",
    "        v3.get_patch_by_id('101').set_facecolor('Green')\n",
    "    if A&B&C:\n",
    "        v3.get_label_by_id('111').set_text('\\n'.join(map(str,A&B&C)))\n",
    "        v3.get_patch_by_id('111').set_alpha(0.1)\n",
    "        v3.get_patch_by_id('111').set_facecolor('Black')\n",
    "    if B&C-A:\n",
    "        v3.get_label_by_id('011').set_text('\\n'.join(map(str,B&C-A)))\n",
    "        v3.get_patch_by_id('011').set_alpha(0.3)\n",
    "        v3.get_patch_by_id('011').set_facecolor('Blue')\n",
    "    if C-B-A:\n",
    "        v3.get_label_by_id('001').set_text('\\n'.join(map(str,C-B-A)))\n",
    "        v3.get_patch_by_id('001').set_alpha(0.6)\n",
    "        v3.get_patch_by_id('001').set_facecolor('Cyan')"
   ]
  },
  {
   "cell_type": "markdown",
   "id": "96a76925",
   "metadata": {},
   "source": [
    "## Complement Assignment\n",
    "#### $\\textbf{U}^c=\\emptyset$\n",
    "- The complement of the universal set is always empty because the universal set already includes all of the possible elements."
   ]
  },
  {
   "cell_type": "markdown",
   "id": "7f79f48a",
   "metadata": {},
   "source": [
    "## 1. Proving Identities\n",
    "#### A. $\\textbf{A}\\setminus\\textbf{B} = \\textbf{A}\\cap\\textbf{B}^c$ <br>\n",
    "A: 2,3,4 <br>\n",
    "B: 3,6,7 <br>\n",
    "$ A\\setminus B = 2, 3 $ <br>\n",
    "$ A\\cap\\ {B}^c = 2, 3 $ <br>\n",
    "Therefore, $\\textbf{A}\\setminus\\textbf{B} = \\textbf{A}\\cap\\textbf{B}^c$ <br>\n",
    "\n",
    "#### B. $\\textbf {B}=(B\\cap A)\\cup (B\\cap A^{c})$\n",
    "$B\\cap A = \\{x|x\\in B\\land x\\in A\\}$<br>\n",
    "$B\\cap A^{c} = \\{x|x\\in B\\land x\\notin A\\}$<br>\n",
    "$(B\\cap A)\\cup (B\\cap A^{c}) = \\{x|(x\\in B\\land x\\in A)\\lor(x\\in B\\land x\\notin A)\\}$<br>\n",
    "\n",
    "#### C. $\\textbf{B}\\setminus\\textbf{B}\\cap\\textbf{A}^c$\n",
    "$B\\setminus A = \\{x|x\\in B\\land x\\notin A\\}$<br>\n",
    "$B\\cap A^c = \\{x|x\\in B\\land x\\notin A\\}$<br>\n",
    "#### D. $\\textbf{A}\\cup\\textbf {B} = \\textbf{A}\\cup \\textbf({B}\\cap\\textbf{A}^c)$\n",
    "$A\\cup B = \\{x|x\\in A \\lor x\\in B\\}$<br>\n",
    "$B\\cap A^{c} = \\{x\\in B \\land x\\notin A\\} = A^{c}$<br>\n",
    "$A\\cup A^{c} = A$<br>\n",
    "#### E. $(\\cup_{i=1}^{\\infty} A_{i}^{c})^{c}$ = $\\cap_{i=1}^{\\infty}A_{i}$ <br>\n",
    "$A_{1}$ = {2, 3, 4} <br>\n",
    "$A_{2}$ = {3, 4, 5} <br> \n",
    "$A_{3}$ = {$\\emptyset$, 1, 6, 7} <br>\n",
    "$A_{1}^{c}$ = {$\\emptyset$, 1, 5, 6, 7, 8, 9}<br>\n",
    "$A_{2}^{c}$ = {$\\emptyset$, 1, 2, 6, 7, 8, 9}<br>\n",
    "$A_{3}^{c}$ = {2, 3, 4, 5, 8, 9} <br>\n",
    "$\\textbf{U}{i=1}^{\\infty} A{i}^{c}$ = {$\\emptyset$, 1, 2, 3, 4, 5, 6, 7, 8, 9} <br>\n",
    "$(\\textbf{U}{i=1}^{\\infty} A{i}^{c})^{c}$ = {$\\emptyset$, 2, 3, 4, 5, 6, 7} <br>\n",
    "$\\cap_{i=1}^{\\infty}A_{i}$ = $\\emptyset$ <br>\n",
    "$(\\textbf{U}{i=1}^{\\infty} A{i}^{c})^{c}$ = $\\cap_{i=1}^{\\infty}A_{i}$ <br>\n",
    "#### F.  $ |A \\cup$ $B| = |A| + |B| - |A $ $\\cap B|$\n",
    "A $\\cup$ B = {2, 3, 4, 6, 7} <br>\n",
    "A $\\cap$ B = {3} <br>\n",
    "|A $\\cup$ B| = 5 <br>\n",
    "|A| = 3 <br>\n",
    "|B| = 3 <br>\n",
    "|A $\\cap$ B| = 1 <br>\n",
    "|A| + |B| - |A $\\cap$ B| = 5 <br>\n",
    "|A $\\cup$ B| = |A| + |B| - |A $\\cap$ B| <br>"
   ]
  },
  {
   "cell_type": "markdown",
   "id": "7a383c09",
   "metadata": {},
   "source": [
    "## 2. Sets and Subsets\n",
    "\n",
    "#### A. If $\\textbf{A} = \\{2,3,4,5\\}$, and $\\textbf{B} = \\{x\\in\\mathbb{N} | x \\ is \\ even$ is $\\textbf{A}\\subset\\textbf{B}$? Show proof.\n",
    "- B = {2, 4, 6, 8, ...}\n",
    "- {2, 4} $\\subset$ A, {2, 4} $\\subset$ B\n",
    "- {3, 5} $\\subset$ A, {3, 5} $\\not\\subset$ B\n",
    "- A $\\not\\subset$ B\n",
    "\n",
    "#### B. Let sets\n",
    "$\\textbf{A} = \\{x|x \\in \\mathbb{Z}, 0 \\leq x \\leq 9\\},\n",
    "\\textbf{B} = \\{ 2,4,6,8\\},\n",
    "\\ and \\ \n",
    "\\textbf{C}  = \\{ 1,3,5,7,9\\}\n",
    "\\ and \\ \\textbf{D}  = \\{ 3,4,5\\}$\n",
    "Find a set $\\textbf{X}$ which will satisfy the following conditions: <br>\n",
    "    1. $\\textbf{X} \\ and \\ \\textbf{B}$ are disjoint. <br>\n",
    "    $\\textbf{X}$ = {5}<br>$\\textbf{X} \\cap \\textbf{B}$ = {5} $\\cap$ {2, 4, 6, 8} = $\\emptyset$ <br>\n",
    "    2. $\\textbf{X} \\subseteq \\textbf{D}$ but $\\textbf{X} \\nsubseteq \\textbf{B}$. <br>\n",
    "    $\\textbf{X}$ = {5}<br> $\\textbf{X} \\subseteq \\textbf{D}$ = {5} $\\subseteq$ {3, 4, 5}<br>$\\textbf{X} \\nsubseteq \\textbf{B}$ = {5} $\\nsubseteq$ {2, 4, 6, 8}<br>\n",
    "    3. $\\textbf{X} \\subseteq \\textbf{A}$ but $\\textbf{X} \\not\\subset \\textbf{C}$.<br>\n",
    "     $\\textbf{X}$ = {3,5,7,9,1} <br>\n",
    "    $\\textbf{X} \\subseteq \\textbf{A}$ = {3,5,7,9,1} $\\subseteq$ {0, 1, 2, 3, 4, 5, 6, 7, 8, 9} <br>\n",
    "    $\\textbf{X} \\not\\subset \\textbf{C}$ = {3,5,7,9,1} $\\not\\subset$ {1, 3, 5, 7, 9}"
   ]
  },
  {
   "cell_type": "code",
   "execution_count": 36,
   "id": "23ee3342",
   "metadata": {},
   "outputs": [
    {
     "name": "stdout",
     "output_type": "stream",
     "text": [
      "C⊕D = {8, 1, 3, 6}\n",
      "A\\B = {1, 2, 3}\n",
      "B\\A = {6, 7}\n",
      "E⊕F = {1, 2, 4, 5, 6, 8, 9}\n",
      "C⊕D using symmetric_difference() method = {1, 3, 6, 8}\n"
     ]
    }
   ],
   "source": [
    "# Define the sets\n",
    "U = {1, 2, 3, 4, 5}\n",
    "A = {1, 2, 3, 4, 5}\n",
    "B = {4, 5, 6, 7}\n",
    "C = {5, 6, 7, 8, 9}\n",
    "D = {1, 3, 5, 7, 9}\n",
    "E = {2, 4, 6, 8}\n",
    "F = {1, 5, 9}\n",
    "\n",
    "# Find C⊕D\n",
    "CD = (C.difference(D)).union(D.difference(C))\n",
    "print(\"C⊕D =\", CD)\n",
    "\n",
    "# Find A\\B\n",
    "AB = A.difference(B)\n",
    "print(\"A\\B =\", AB)\n",
    "\n",
    "# Find B\\A\n",
    "BA = B.difference(A)\n",
    "print(\"B\\A =\", BA)\n",
    "\n",
    "# Find E⊕F\n",
    "EF = (E.difference(F)).union(F.difference(E))\n",
    "print(\"E⊕F =\", EF)\n",
    "\n",
    "# Find C⊕D using the symmetric_difference() method\n",
    "CD_sym = C.symmetric_difference(D)\n",
    "print(\"C⊕D using symmetric_difference() method =\", CD_sym)\n"
   ]
  },
  {
   "cell_type": "markdown",
   "id": "f957e69d",
   "metadata": {},
   "source": [
    "# 4. Finite Sets and The Counting Principles\n",
    "---\n",
    "\n",
    "In a Survey of 120 People, it was found that:\n",
    "- 65 read Newsweek Magazine\n",
    "- 45 read Times Magazine\n",
    "- 42 read Fortune Magazine\n",
    "- 20 read Both Newsweek and Time\n",
    "- 25 read both Newsweek and Fortune\n",
    "- 15 read both Time and Fortune\n",
    "- 8 read all three magazines\n",
    "With these information do the following:<br>\n",
    "1. Draw the venn diagram using python.\n",
    "2. Find the number of people who read at $\\textbf{\"least one\"}$ of the three magazines.\n",
    "3. Find the number of people who read exactly one magazine.\n",
    "<br>\n",
    "<br>\n"
   ]
  },
  {
   "cell_type": "markdown",
   "id": "2086d835",
   "metadata": {},
   "source": [
    "### 1."
   ]
  },
  {
   "cell_type": "code",
   "execution_count": 33,
   "id": "2e70dc6c",
   "metadata": {},
   "outputs": [
    {
     "data": {
      "image/png": "[encoded data removed]",
      "text/plain": [
       "<Figure size 640x480 with 1 Axes>"
      ]
     },
     "metadata": {},
     "output_type": "display_data"
    }
   ],
   "source": [
    "Total = 120\n",
    "newsweek = 65\n",
    "times = 45\n",
    "fortune = 42\n",
    "newsTimes = 20\n",
    "newsReaders = 25\n",
    "timesFortune = 15\n",
    "allReaders = 8\n",
    "\n",
    "venn3(subsets=(newsweek - newsTimes - newsReaders + allReaders, times - newsTimes - timesFortune + allReaders, fortune - newsReaders - timesFortune + allReaders, newsTimes - allReaders, timesFortune - allReaders, newsReaders - allReaders, allReaders), set_colors=('blue', 'purple', 'pink'), set_labels=('Newsweek', 'Times', 'Fortune'))\n",
    "plt.show()\n"
   ]
  },
  {
   "cell_type": "markdown",
   "id": "f8762816",
   "metadata": {},
   "source": [
    "### 2. "
   ]
  },
  {
   "cell_type": "code",
   "execution_count": 37,
   "id": "11663f59",
   "metadata": {},
   "outputs": [
    {
     "name": "stdout",
     "output_type": "stream",
     "text": [
      "Number of people who read at least one magazine: 100\n"
     ]
    }
   ],
   "source": [
    "at_least_one = newsweek + times + fortune - newsTimes - newsReaders - timesFortune + allReaders\n",
    "print(\"Number of people who read at least one magazine:\", at_least_one)"
   ]
  },
  {
   "cell_type": "markdown",
   "id": "d87bbce2",
   "metadata": {},
   "source": [
    "### 3."
   ]
  },
  {
   "cell_type": "code",
   "execution_count": 38,
   "id": "0d1d85cf",
   "metadata": {},
   "outputs": [
    {
     "name": "stdout",
     "output_type": "stream",
     "text": [
      "Number of people who read exactly one magazine: 56\n"
     ]
    }
   ],
   "source": [
    "exactly_one = (newsweek - newsTimes - newsReaders + allReaders) + (times - newsTimes - timesFortune + allReaders) + (fortune - newsReaders - timesFortune + allReaders)\n",
    "print(\"Number of people who read exactly one magazine:\", exactly_one)"
   ]
  },
  {
   "cell_type": "markdown",
   "id": "562e7305",
   "metadata": {},
   "source": [
    "\n",
    "In a survey of 25 new cars being sold at a local auto dealer was conducted to see which of the three popular options: air-conditioning, denoted as A; radio, denoted as R; and power windows denoted as W were installed. The survey found that:\n",
    "\n",
    "- 15 had A. HINT: The condition said $\\textbf{\"had an A\"}$ <font color='red'>$\\textbf{\"AND NOT\"}$ <font color='black'>$\\textbf{\"had an A only\"}$ <br>\n",
    "- 12 had R. HINT: The condition said $\\textbf{\"had a R\"}$ <font color='red'>$\\textbf{\"AND NOT\"}$ <font color='black'>$\\textbf{\"had a R only\"} $ <br>\n",
    "- 11 had W. HINT: The condition said $\\textbf{\"had a W\"}$ <font color='red'>$\\textbf{\"AND NOT\"}$<font color='black'> $\\textbf{\"had a W only\"}$\n",
    "- 5 had A and W.\n",
    "- 9 had A and R.\n",
    "- 4 had R and W.\n",
    "- Only 3 have the three option. With these information do the following:\n",
    "    \n",
    "1. Draw the venn diagram using python. <br>\n",
    "2. Find the number of cars with W only. <br>\n",
    "3. Find the number of cars with A only. <br>\n",
    "4. Find the number of cars with R only. <br>\n",
    "5. Find the number of cars with both R and W but not A. <br>\n",
    "6. Find the number of cars with both A and R but not W. <br>\n",
    "7. Find the number of cars with only one of the options. <br>\n",
    "8. Find the number of cars with at least one option. <br>\n",
    "9. Find the number of cars with none of the Options. <br>"
   ]
  },
  {
   "cell_type": "code",
   "execution_count": 35,
   "id": "156552d7",
   "metadata": {},
   "outputs": [
    {
     "data": {
      "image/png": "[encoded data removed]",
      "text/plain": [
       "<Figure size 640x480 with 1 Axes>"
      ]
     },
     "metadata": {},
     "output_type": "display_data"
    },
    {
     "name": "stdout",
     "output_type": "stream",
     "text": [
      "Number of cars with W only: 5\n",
      "Number of cars with A only: 4\n",
      "Number of cars with R only: 2\n",
      "Number of cars with both R and W but not A: 1\n",
      "Number of cars with both A and R but not W: 6\n",
      "Number of cars with only one of the options: 11\n",
      "Number of cars with at least one option: 23\n",
      "Number of cars with none of the options: 2\n"
     ]
    }
   ],
   "source": [
    "\n",
    "total = 25\n",
    "A = 15\n",
    "R = 12\n",
    "W = 11\n",
    "AW = 5\n",
    "AR = 9\n",
    "RW = 4\n",
    "ARW = 3\n",
    "\n",
    "ABC = ARW\n",
    "AB = AR - ABC\n",
    "AC = AW - ABC\n",
    "BC = RW - ABC\n",
    "A = A - AB - AC - ABC\n",
    "B = R - AB - BC - ABC\n",
    "C = W - AC - BC - ABC\n",
    "\n",
    "venn_colors = ('purple', 'pink', 'blue')\n",
    "venn = venn3(subsets=(A, B, AB, C, AC, BC, ABC),\n",
    "             set_labels=('Air-Conditioning', 'Radio', 'Power Windows'),\n",
    "             set_colors=venn_colors)\n",
    "\n",
    "\n",
    "venn.get_patch_by_id('001').set_color('fuchsia')\n",
    "\n",
    "\n",
    "plt.title(\"Car Option Venn Diagram\")\n",
    "plt.show()\n",
    "\n",
    "\n",
    "print(\"Number of cars with W only:\", C)\n",
    "print(\"Number of cars with A only:\", A)\n",
    "print(\"Number of cars with R only:\", B)\n",
    "print(\"Number of cars with both R and W but not A:\", BC)\n",
    "print(\"Number of cars with both A and R but not W:\", AB)\n",
    "print(\"Number of cars with only one of the options:\", (A+B+C))\n",
    "print(\"Number of cars with at least one option:\", (A+B+C+AB+AC+BC+ABC))\n",
    "print(\"Number of cars with none of the options:\", (total-(A+B+C+AB+AC+BC+ABC)))\n"
   ]
  },
  {
   "cell_type": "code",
   "execution_count": null,
   "id": "9c3b5601",
   "metadata": {},
   "outputs": [],
   "source": []
  }
 ],
 "metadata": {
  "kernelspec": {
   "display_name": "Python 3 (ipykernel)",
   "language": "python",
   "name": "python3"
  },
  "language_info": {
   "codemirror_mode": {
    "name": "ipython",
    "version": 3
   },
   "file_extension": ".py",
   "mimetype": "text/x-python",
   "name": "python",
   "nbconvert_exporter": "python",
   "pygments_lexer": "ipython3",
   "version": "3.11.4"
  }
 },
 "nbformat": 4,
 "nbformat_minor": 5
}
